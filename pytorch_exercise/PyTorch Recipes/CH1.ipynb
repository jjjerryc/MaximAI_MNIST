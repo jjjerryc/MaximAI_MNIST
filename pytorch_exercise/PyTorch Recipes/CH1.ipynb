{
 "cells": [
  {
   "cell_type": "code",
   "execution_count": 1,
   "metadata": {},
   "outputs": [],
   "source": [
    "import torch"
   ]
  },
  {
   "cell_type": "code",
   "execution_count": 3,
   "metadata": {},
   "outputs": [
    {
     "name": "stdout",
     "output_type": "stream",
     "text": [
      "tensor([10, 12, 14, 16, 18, 20, 22, 24, 26, 28, 30, 32, 34, 36, 38])\n",
      "tensor([[ 1.2125, -1.4731, -1.4423,  1.4368, -0.5763],\n",
      "        [-2.4750,  0.1911,  0.9671, -0.2633,  0.7518],\n",
      "        [ 1.1573,  0.2689, -0.1582, -0.6010, -1.4012],\n",
      "        [ 0.6759,  0.8689,  0.4258,  0.9902, -0.3344]])\n"
     ]
    }
   ],
   "source": [
    "t1 = torch.arange(10, 40,2) #step size 2\n",
    "print(t1)\n",
    "d = torch.randn(4, 5) #random numbers from a normal distribution, with mean =0 and standard deviation =1\n",
    "print(d)"
   ]
  },
  {
   "cell_type": "code",
   "execution_count": null,
   "metadata": {},
   "outputs": [],
   "source": []
  }
 ],
 "metadata": {
  "kernelspec": {
   "display_name": "conda",
   "language": "python",
   "name": "python3"
  },
  "language_info": {
   "codemirror_mode": {
    "name": "ipython",
    "version": 3
   },
   "file_extension": ".py",
   "mimetype": "text/x-python",
   "name": "python",
   "nbconvert_exporter": "python",
   "pygments_lexer": "ipython3",
   "version": "3.12.2"
  }
 },
 "nbformat": 4,
 "nbformat_minor": 2
}
