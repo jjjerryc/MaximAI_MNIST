{
 "cells": [
  {
   "cell_type": "code",
   "execution_count": 2,
   "metadata": {},
   "outputs": [],
   "source": [
    "import torch"
   ]
  },
  {
   "cell_type": "code",
   "execution_count": 3,
   "metadata": {},
   "outputs": [
    {
     "name": "stdout",
     "output_type": "stream",
     "text": [
      "tensor([[0.4830, 0.4942, 0.1744],\n",
      "        [0.4789, 0.8166, 0.4514],\n",
      "        [0.6176, 0.8350, 0.0721]])\n"
     ]
    }
   ],
   "source": [
    "x = torch.rand(3, 3)\n",
    "print(x)"
   ]
  },
  {
   "cell_type": "code",
   "execution_count": 3,
   "metadata": {},
   "outputs": [],
   "source": [
    "%matplotlib inline\n",
    "import torch\n",
    "import numpy as np"
   ]
  },
  {
   "cell_type": "code",
   "execution_count": 4,
   "metadata": {},
   "outputs": [
    {
     "data": {
      "text/plain": [
       "tensor([[1, 2],\n",
       "        [3, 4]])"
      ]
     },
     "execution_count": 4,
     "metadata": {},
     "output_type": "execute_result"
    }
   ],
   "source": [
    "data = [[1, 2], [3, 4]]\n",
    "x_data = torch.tensor(data)\n",
    "x_data"
   ]
  },
  {
   "cell_type": "code",
   "execution_count": 5,
   "metadata": {},
   "outputs": [
    {
     "name": "stdout",
     "output_type": "stream",
     "text": [
      "Numpy np_array value: \n",
      " [[1 2]\n",
      " [3 4]] \n",
      "\n",
      "tensor x_np value: \n",
      " tensor([[1, 2],\n",
      "        [3, 4]]) \n",
      "\n",
      "Numpy np_array after *2 operation: \n",
      " [[2 4]\n",
      " [6 8]] \n",
      "\n",
      "tensor x_np value after modifyding numpy array: \n",
      " tensor([[2, 4],\n",
      "        [6, 8]]) \n",
      "\n"
     ]
    }
   ],
   "source": [
    "np_array = np.array(data)\n",
    "x_np = torch.from_numpy(np_array)\n",
    "\n",
    "print(f\"Numpy np_array value: \\n {np_array} \\n\")\n",
    "print(f\"tensor x_np value: \\n {x_np} \\n\")\n",
    "\n",
    "np.multiply(np_array, 2, out = np_array)\n",
    "\n",
    "print(f\"Numpy np_array after *2 operation: \\n {np_array} \\n\")\n",
    "print(f\"tensor x_np value after modifyding numpy array: \\n {x_np} \\n\")\n"
   ]
  },
  {
   "cell_type": "code",
   "execution_count": 6,
   "metadata": {},
   "outputs": [
    {
     "name": "stdout",
     "output_type": "stream",
     "text": [
      "Once Tensor: \n",
      " tensor([[1, 1],\n",
      "        [1, 1]]) \n",
      "\n",
      "Random Tensor: \n",
      " tensor([[0.3163, 0.2015],\n",
      "        [0.2000, 0.1009]]) \n",
      "\n"
     ]
    }
   ],
   "source": [
    "#繼承tensor資料型態\n",
    "x_ones = torch.ones_like(x_data)\n",
    "x_rand = torch.rand_like(x_data, dtype = torch.float)\n",
    "\n",
    "print(f\"Once Tensor: \\n {x_ones} \\n\")\n",
    "print(f\"Random Tensor: \\n {x_rand} \\n\")"
   ]
  },
  {
   "cell_type": "code",
   "execution_count": 7,
   "metadata": {},
   "outputs": [
    {
     "name": "stdout",
     "output_type": "stream",
     "text": [
      "Random Tensor: \n",
      " tensor([[0.7882, 0.0929, 0.5468],\n",
      "        [0.6020, 0.4624, 0.4642],\n",
      "        [0.2048, 0.6110, 0.9750]]) \n",
      "\n",
      "Ones Tensor: \n",
      " tensor([[1., 1., 1.],\n",
      "        [1., 1., 1.],\n",
      "        [1., 1., 1.]]) \n",
      "\n",
      "Zero Tensor: \n",
      " tensor([[0., 0., 0.],\n",
      "        [0., 0., 0.],\n",
      "        [0., 0., 0.]]) \n",
      "\n"
     ]
    }
   ],
   "source": [
    "shape = (3, 3)\n",
    "rand_tensor = torch.rand(shape)\n",
    "ones_tensor = torch.ones(shape)\n",
    "zeros_tensor = torch.zeros(shape)\n",
    "\n",
    "print(f\"Random Tensor: \\n {rand_tensor} \\n\")\n",
    "print(f\"Ones Tensor: \\n {ones_tensor} \\n\")\n",
    "print(f\"Zero Tensor: \\n {zeros_tensor} \\n\")"
   ]
  },
  {
   "cell_type": "code",
   "execution_count": 8,
   "metadata": {},
   "outputs": [
    {
     "name": "stdout",
     "output_type": "stream",
     "text": [
      "shape = torch.Size([3, 4])\n",
      "dataType = torch.float32\n",
      "Device tensor store on: cpu\n"
     ]
    }
   ],
   "source": [
    "#attribute of a tensor\n",
    "tensor1  = torch.rand(3, 4)\n",
    "\n",
    "print(f\"shape = {tensor1.shape}\")\n",
    "print(f\"dataType = {tensor1.dtype}\")\n",
    "print(f\"Device tensor store on: {tensor1.device}\")"
   ]
  },
  {
   "cell_type": "code",
   "execution_count": 9,
   "metadata": {},
   "outputs": [],
   "source": [
    "#operation, GPU operates faster than CPU\n",
    "if torch.cuda.is_available():\n",
    "    tensor1 = tensor1.to('cuda')"
   ]
  },
  {
   "cell_type": "code",
   "execution_count": 10,
   "metadata": {},
   "outputs": [
    {
     "name": "stdout",
     "output_type": "stream",
     "text": [
      "first raw:  tensor([1., 1., 1., 1.])\n",
      "first column:  tensor([1., 1., 1., 1.])\n",
      "last column:  tensor([1., 1., 1., 1.])\n",
      "tensor([[1., 0., 1., 1.],\n",
      "        [1., 0., 1., 1.],\n",
      "        [1., 0., 1., 1.],\n",
      "        [1., 0., 1., 1.]])\n",
      "second column:  tensor([0., 0., 0., 0.])\n",
      "second raw:  tensor([1., 0., 1., 1.])\n",
      "tensor([[4., 3., 4., 4.],\n",
      "        [4., 3., 4., 4.],\n",
      "        [4., 3., 4., 4.],\n",
      "        [4., 3., 4., 4.]])\n",
      "tensor([[4., 3., 4., 4., 4., 3., 4., 4., 4., 3., 4., 4.],\n",
      "        [4., 3., 4., 4., 4., 3., 4., 4., 4., 3., 4., 4.],\n",
      "        [4., 3., 4., 4., 4., 3., 4., 4., 4., 3., 4., 4.],\n",
      "        [4., 3., 4., 4., 4., 3., 4., 4., 4., 3., 4., 4.]])\n"
     ]
    }
   ],
   "source": [
    "tensor2 = torch.ones(4, 4)\n",
    "\n",
    "print('first raw: ', tensor2[0])\n",
    "print('first column: ', tensor2[:, 0])\n",
    "print('last column: ', tensor2[:, -1])\n",
    "tensor2[:, 1] = 0\n",
    "print(tensor2)\n",
    "print('second column: ', tensor2[:, 1])\n",
    "print('second raw: ', tensor2[1, :])\n",
    "\n",
    "#In-place operations(discourage)\n",
    "tensor2.add_(3)\n",
    "print(tensor2)\n",
    "\n",
    "#jointing tensors\n",
    "t1 = torch.cat([tensor2, tensor2, tensor2], dim  = 1)\n",
    "print(t1)"
   ]
  },
  {
   "cell_type": "code",
   "execution_count": 11,
   "metadata": {},
   "outputs": [
    {
     "name": "stdout",
     "output_type": "stream",
     "text": [
      "y1 = \n",
      " tensor([[57., 57., 57., 57.],\n",
      "        [57., 57., 57., 57.],\n",
      "        [57., 57., 57., 57.],\n",
      "        [57., 57., 57., 57.]]) \n",
      "\n",
      "y2 = \n",
      " tensor([[57., 57., 57., 57.],\n",
      "        [57., 57., 57., 57.],\n",
      "        [57., 57., 57., 57.],\n",
      "        [57., 57., 57., 57.]]) \n",
      "\n",
      "y3 = \n",
      " tensor([[57., 57., 57., 57.],\n",
      "        [57., 57., 57., 57.],\n",
      "        [57., 57., 57., 57.],\n",
      "        [57., 57., 57., 57.]]) \n",
      "\n",
      "z1 = \n",
      " tensor([[16.,  9., 16., 16.],\n",
      "        [16.,  9., 16., 16.],\n",
      "        [16.,  9., 16., 16.],\n",
      "        [16.,  9., 16., 16.]]) \n",
      "\n",
      "z2 = \n",
      " tensor([[16.,  9., 16., 16.],\n",
      "        [16.,  9., 16., 16.],\n",
      "        [16.,  9., 16., 16.],\n",
      "        [16.,  9., 16., 16.]]) \n",
      "\n",
      "z3 = \n",
      " tensor([[16.,  9., 16., 16.],\n",
      "        [16.,  9., 16., 16.],\n",
      "        [16.,  9., 16., 16.],\n",
      "        [16.,  9., 16., 16.]]) \n",
      "\n"
     ]
    }
   ],
   "source": [
    "#matrix multiplication\n",
    "y1 = tensor2 @ tensor2.T\n",
    "y2 = tensor2.matmul(tensor2.T)\n",
    "y3 = torch.rand_like(tensor2)\n",
    "torch.matmul(tensor2, tensor2.T, out = y3)\n",
    "print(f\"y1 = \\n {y1} \\n\")\n",
    "print(f\"y2 = \\n {y2} \\n\")\n",
    "print(f\"y3 = \\n {y3} \\n\")\n",
    "\n",
    "#element-wise product\n",
    "z1 = tensor2 * tensor2\n",
    "z2 = tensor2.mul(tensor2)\n",
    "z3 = torch.rand_like(tensor2)\n",
    "torch.mul(tensor2, tensor2, out = z3)\n",
    "print(f\"z1 = \\n {z1} \\n\")\n",
    "print(f\"z2 = \\n {z2} \\n\")\n",
    "print(f\"z3 = \\n {z3} \\n\")"
   ]
  },
  {
   "cell_type": "code",
   "execution_count": 12,
   "metadata": {},
   "outputs": [
    {
     "name": "stdout",
     "output_type": "stream",
     "text": [
      "60.0 <class 'float'>\n"
     ]
    }
   ],
   "source": [
    "agg = tensor2.sum()\n",
    "agg_item = agg.item()\n",
    "print(agg_item, type(agg_item))"
   ]
  },
  {
   "cell_type": "code",
   "execution_count": 13,
   "metadata": {},
   "outputs": [
    {
     "name": "stdout",
     "output_type": "stream",
     "text": [
      "tensor2: \n",
      " tensor([[4., 3., 4., 4.],\n",
      "        [4., 3., 4., 4.],\n",
      "        [4., 3., 4., 4.],\n",
      "        [4., 3., 4., 4.]])\n",
      "tensor2 to numPy: \n",
      " [[4. 3. 4. 4.]\n",
      " [4. 3. 4. 4.]\n",
      " [4. 3. 4. 4.]\n",
      " [4. 3. 4. 4.]]\n",
      "numPy to tensor: \n",
      " tensor([2., 2., 2., 2., 2.], dtype=torch.float64)\n"
     ]
    }
   ],
   "source": [
    "#tensor to numpy array\n",
    "print(f\"tensor2: \\n {tensor2}\")\n",
    "print(f\"tensor2 to numPy: \\n {tensor2.numpy()}\")\n",
    "\n",
    "#numPy array to tensor\n",
    "n1 = np.ones(5)\n",
    "np.add(n1, 1, out = n1)\n",
    "print(f\"numPy to tensor: \\n {torch.from_numpy(n1)}\")"
   ]
  }
 ],
 "metadata": {
  "kernelspec": {
   "display_name": "conda",
   "language": "python",
   "name": "python3"
  },
  "language_info": {
   "codemirror_mode": {
    "name": "ipython",
    "version": 3
   },
   "file_extension": ".py",
   "mimetype": "text/x-python",
   "name": "python",
   "nbconvert_exporter": "python",
   "pygments_lexer": "ipython3",
   "version": "3.12.2"
  }
 },
 "nbformat": 4,
 "nbformat_minor": 2
}
